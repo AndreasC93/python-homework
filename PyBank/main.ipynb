{
 "cells": [
  {
   "cell_type": "code",
   "execution_count": 2,
   "metadata": {},
   "outputs": [],
   "source": [
    "#import\n",
    "import numpy as ny\n",
    "import statistics\n",
    "import os\n",
    "import pathlib\n",
    "from pathlib import Path\n",
    "import csv"
   ]
  },
  {
   "cell_type": "code",
   "execution_count": 3,
   "metadata": {},
   "outputs": [],
   "source": [
    "#set path\n",
    "budg_data_path = Path(\"../budget_data.csv\")"
   ]
  },
  {
   "cell_type": "code",
   "execution_count": 13,
   "metadata": {},
   "outputs": [
    {
     "name": "stdout",
     "output_type": "stream",
     "text": [
      "Financial Analysis\n",
      "------------------\n",
      "Total Months: 86\n",
      "Total: $38382578\n",
      "Average Change: $-2315.12\n",
      "Greatest increase: $1926159\n",
      "Greatest decrease: $-2196167\n"
     ]
    }
   ],
   "source": [
    "#set delimeter and header\n",
    "with open(budg_data_path, 'r') as budget_csv:\n",
    "    reader = csv.reader(budget_csv, delimiter=\",\") \n",
    "    count = 1\n",
    "    total_rev= 0\n",
    "    increase= []\n",
    "    header = next(reader)\n",
    "    previous_row = next(reader)\n",
    "    total_rev= int(previous_row[1])\n",
    "    for row in reader:\n",
    "        count+=1\n",
    "        total_rev += int(row[1])\n",
    "        increase.append(int(row[1])-int(previous_row[1]))\n",
    "        previous_row=row\n",
    "    print('Financial Analysis')\n",
    "    print('------------------')\n",
    "    print(f'Total Months: {count}')\n",
    "    print(f'Total: ${total_rev}')\n",
    "    print(f'Average Change: ${round(statistics.mean(increase),2)}')\n",
    "    print(f'Greatest increase: ${max(increase)}')\n",
    "    print(f'Greatest decrease: ${min(increase)}')\n",
    "    "
   ]
  },
  {
   "cell_type": "code",
   "execution_count": null,
   "metadata": {},
   "outputs": [],
   "source": []
  }
 ],
 "metadata": {
  "kernelspec": {
   "display_name": "Python 3",
   "language": "python",
   "name": "python3"
  },
  "language_info": {
   "codemirror_mode": {
    "name": "ipython",
    "version": 3
   },
   "file_extension": ".py",
   "mimetype": "text/x-python",
   "name": "python",
   "nbconvert_exporter": "python",
   "pygments_lexer": "ipython3",
   "version": "3.7.6"
  }
 },
 "nbformat": 4,
 "nbformat_minor": 4
}
